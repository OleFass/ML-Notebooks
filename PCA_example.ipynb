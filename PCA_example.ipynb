{
 "cells": [
  {
   "cell_type": "markdown",
   "metadata": {},
   "source": [
    "Explanation of the PCA with code examples.\n",
    "Sources: \n",
    "\n",
    "https://hadrienj.github.io/posts/Deep-Learning-Book-Series-2.12-Example-Principal-Components-Analysis/\n",
    "\n",
    "https://stats.stackexchange.com/questions/141864/how-can-top-principal-components-retain-the-predictive-power-on-a-dependent-vari"
   ]
  },
  {
   "cell_type": "code",
   "execution_count": 53,
   "metadata": {},
   "outputs": [],
   "source": [
    "import numpy as np\n",
    "from sklearn import decomposition\n",
    "import matplotlib.pyplot as plt"
   ]
  },
  {
   "cell_type": "code",
   "execution_count": 54,
   "metadata": {},
   "outputs": [
    {
     "name": "stdout",
     "output_type": "stream",
     "text": [
      "[[ 4  4]\n",
      " [-3  3]]\n",
      "[[ 4.  4.]\n",
      " [-3.  3.]]\n"
     ]
    }
   ],
   "source": [
    "# simple example of SVD\n",
    "#A = np.array(np.arange(10)).reshape(5,2)\n",
    "A = np.array([[4,4],[-3,3]])\n",
    "print(A)\n",
    "# A = U x S x V.T\n",
    "# V is an orthogonal matrix of the EV of A^t x A\n",
    "V = np.linalg.eig(A.T.dot(A))\n",
    "# S is a diagonal matrix of the EW of A^T x A respectively A x A^T since the EW are the same \n",
    "S = np.linalg.eig(A.T.dot(A))\n",
    "S = np.diag(np.sqrt(S[0]))\n",
    "#print(S)\n",
    "# U is the EV of A x A^T\n",
    "U = np.linalg.eig(A.dot(A.T))\n",
    "#print(U)\n",
    "# test\n",
    "T = U[1].dot(S).dot(V[1].T)\n",
    "print(T)"
   ]
  },
  {
   "cell_type": "code",
   "execution_count": 129,
   "metadata": {},
   "outputs": [
    {
     "name": "stdout",
     "output_type": "stream",
     "text": [
      "[[ 1.   0.5]\n",
      " [ 2.   1.5]\n",
      " [ 3.   1. ]\n",
      " [ 4.   1.5]\n",
      " [ 5.   2.5]\n",
      " [ 6.   2. ]\n",
      " [ 7.   1.5]\n",
      " [ 8.   3. ]\n",
      " [ 9.   4. ]\n",
      " [10.   3. ]]\n"
     ]
    },
    {
     "data": {
      "text/plain": [
       "[<matplotlib.lines.Line2D at 0x7fc907491f60>]"
      ]
     },
     "execution_count": 129,
     "metadata": {},
     "output_type": "execute_result"
    },
    {
     "data": {
      "image/png": "[encoded data removed]",
      "text/plain": [
       "<Figure size 432x288 with 1 Axes>"
      ]
     },
     "metadata": {
      "needs_background": "light"
     },
     "output_type": "display_data"
    }
   ],
   "source": [
    "#A = np.random.random(20).reshape(10,2)\n",
    "#print(A)\n",
    "A = np.array([[1,0.5],[2,1.5],[3,1],[4,1.5],[5,2.5],[6,2],[7,1.5],[8,3],[9,4],[10,3]])\n",
    "print(A)\n",
    "#plt.scatter(A[:,0],A[:,1])\n",
    "plt.plot(A[:,0],A[:,1],'o')"
   ]
  },
  {
   "cell_type": "markdown",
   "metadata": {},
   "source": [
    "PCA is based on finding the eigenvectors of the sample covariance matrix of a dataset.\n",
    "The definition of covariance for a random variable X is:\n",
    "\n",
    "$$\n",
    "Cov(X)=E[(X−μX)(X−μX)T] \\\\\n",
    "$$\n",
    "\n",
    "whereas the sample covariance matrix is:\n",
    "$$\n",
    "C = \\sum_{i=0}^n (x_i - μ_x) (x_i - μ_x)^T \\\\\n",
    "$$\n",
    "\n",
    "(in reality there's also a positive constant, which is usually either 1/n or 1/(n-1), but we know that this changes neither the eigenvector directions, nor the order of the eigenvalues, and so we are not interested in this constant and can leave it out).\n",
    "\n",
    "Now, nothing stops you from not centering the data at all, and computing the Covariance matrix like that; PCA will still work. However, if you center the data, the implication is that $ μ_x = 0 $, and thus the Covariance matrix is simply: $ C = \\sum_{i=0}^n x_i x^T_i $\n",
    "If your data-points are stored as the columns of a data-set matrix X, then you get the covariance matrix at the simple cost of a matrix multiplication $ C = X X^T $"
   ]
  },
  {
   "cell_type": "code",
   "execution_count": 130,
   "metadata": {},
   "outputs": [
    {
     "name": "stdout",
     "output_type": "stream",
     "text": [
      "[[82.5   24.75 ]\n",
      " [24.75  10.225]]\n",
      "[[ 0.95526127 -0.29576327]\n",
      " [ 0.29576327  0.95526127]]\n",
      "[90.16297267  2.56202733]\n"
     ]
    },
    {
     "data": {
      "image/png": "[encoded data removed]",
      "text/plain": [
       "<Figure size 432x288 with 1 Axes>"
      ]
     },
     "metadata": {
      "needs_background": "light"
     },
     "output_type": "display_data"
    }
   ],
   "source": [
    "# center A\n",
    "A -= np.mean(A, axis=0)\n",
    "plt.plot(A[:,0], A[:,1], 'o')\n",
    "print(A.T.dot(A))\n",
    "# calc ev of A^t x A\n",
    "# These are the vectors maximizing our function. \n",
    "# Each column vector is associated with an eigenvalue. \n",
    "# The vector associated with the larger eigenvalue tells us the direction associated with the larger variance in our data.\n",
    "ew, ev = np.linalg.eig(A.T.dot(A))\n",
    "print(ev)\n",
    "print(ew)"
   ]
  },
  {
   "cell_type": "markdown",
   "metadata": {},
   "source": [
    "We can now plot the Eigenvectors of the Covariance Matrix. We can see that the blue vector direction corresponds to the oblique shape of our data. The idea is that if you project the data points on the line corresponding to the blue vector direction you will end up with the largest variance. This vector has the direction that maximizes variance of projected data. The second eigenvector is orthogonal to the first."
   ]
  },
  {
   "cell_type": "code",
   "execution_count": 131,
   "metadata": {},
   "outputs": [
    {
     "name": "stdout",
     "output_type": "stream",
     "text": [
      "[0.         0.         0.95526127 0.29576327]\n",
      "[ 0.          0.         -0.29576327  0.95526127]\n"
     ]
    },
    {
     "data": {
      "text/plain": [
       "(-2.55, 2.95)"
      ]
     },
     "execution_count": 131,
     "metadata": {},
     "output_type": "execute_result"
    },
    {
     "data": {
      "image/png": "[encoded data removed]",
      "text/plain": [
       "<Figure size 432x288 with 1 Axes>"
      ]
     },
     "metadata": {
      "needs_background": "light"
     },
     "output_type": "display_data"
    }
   ],
   "source": [
    "# plot EVs\n",
    "plt.figure()\n",
    "plt.axvline(x=0, color='#A9A9A9', zorder=0)\n",
    "plt.axhline(y=0, color='#A9A9A9', zorder=0)\n",
    "cols = ['blue','green']\n",
    "\n",
    "for i in range(len(ev)):\n",
    "    x = np.concatenate([[0,0], ev[:,i]])\n",
    "    print(x)\n",
    "    plt.quiver([x[0]],\n",
    "               [x[1]],\n",
    "               [x[2]],\n",
    "               [x[3]],\n",
    "               angles='xy', scale_units='xy', scale=1, color=cols[i],\n",
    "               alpha=1)\n",
    "#\n",
    "plt.plot(A[:,0], A[:,1], 'o')\n",
    "#\n",
    "plt.xlim(np.min(A[:,0])-1, np.max(A[:,0])+1)\n",
    "plt.ylim(np.min(A[:,1])-1, np.max(A[:,1])+1)"
   ]
  },
  {
   "cell_type": "code",
   "execution_count": 132,
   "metadata": {},
   "outputs": [
    {
     "data": {
      "text/plain": [
       "(-1.9690386042814862, 1.82758801793302)"
      ]
     },
     "execution_count": 132,
     "metadata": {},
     "output_type": "execute_result"
    },
    {
     "data": {
      "image/png": "[encoded data removed]",
      "text/plain": [
       "<Figure size 432x288 with 1 Axes>"
      ]
     },
     "metadata": {
      "needs_background": "light"
     },
     "output_type": "display_data"
    }
   ],
   "source": [
    "# scale along first pca dimension\n",
    "# c = D^t * x\n",
    "X_new = ev.T.dot(A.T)\n",
    "plt.plot(X_new[0,:],X_new[1,:],'o')\n",
    "plt.xlim(np.min(X_new[0,:])-1, np.max(X_new[0,:])+1)\n",
    "plt.ylim(np.min(X_new[1,:])-1, np.max(X_new[1,:])+1)"
   ]
  },
  {
   "cell_type": "code",
   "execution_count": 133,
   "metadata": {},
   "outputs": [
    {
     "name": "stdout",
     "output_type": "stream",
     "text": [
      "[[-4.5  -1.55]\n",
      " [-3.5  -0.55]\n",
      " [-2.5  -1.05]\n",
      " [-1.5  -0.55]\n",
      " [-0.5   0.45]\n",
      " [ 0.5  -0.05]\n",
      " [ 1.5  -0.55]\n",
      " [ 2.5   0.95]\n",
      " [ 3.5   1.95]\n",
      " [ 4.5   0.95]]\n",
      "[[-0.95526127 -0.29576327]\n",
      " [ 0.29576327 -0.95526127]]\n",
      "[10.01810807  0.2846697 ]\n",
      "[[ 4.75710877  0.14972024]\n",
      " [ 3.50608423 -0.50977775]\n",
      " [ 2.6987046   0.26361615]\n",
      " [ 1.5955617   0.08174879]\n",
      " [ 0.34453716 -0.57774921]\n",
      " [-0.46284247  0.1956447 ]\n",
      " [-1.2702221   0.9690386 ]\n",
      " [-2.66912827 -0.16809002]\n",
      " [-3.92015281 -0.82758802]\n",
      " [-4.57965081  0.42343652]]\n",
      "[[-4.5  -1.55]\n",
      " [-3.5  -0.55]\n",
      " [-2.5  -1.05]\n",
      " [-1.5  -0.55]\n",
      " [-0.5   0.45]\n",
      " [ 0.5  -0.05]\n",
      " [ 1.5  -0.55]\n",
      " [ 2.5   0.95]\n",
      " [ 3.5   1.95]\n",
      " [ 4.5   0.95]]\n",
      "[[-4.5  -1.55]\n",
      " [-3.5  -0.55]\n",
      " [-2.5  -1.05]\n",
      " [-1.5  -0.55]\n",
      " [-0.5   0.45]\n",
      " [ 0.5  -0.05]\n",
      " [ 1.5  -0.55]\n",
      " [ 2.5   0.95]\n",
      " [ 3.5   1.95]\n",
      " [ 4.5   0.95]]\n"
     ]
    },
    {
     "data": {
      "text/plain": [
       "[<matplotlib.lines.Line2D at 0x7fc907389e80>]"
      ]
     },
     "execution_count": 133,
     "metadata": {},
     "output_type": "execute_result"
    },
    {
     "data": {
      "image/png": "[encoded data removed]",
      "text/plain": [
       "<Figure size 432x288 with 1 Axes>"
      ]
     },
     "metadata": {
      "needs_background": "light"
     },
     "output_type": "display_data"
    }
   ],
   "source": [
    "# compare to scikit PCA\n",
    "print(A)\n",
    "pca = decomposition.PCA(2)\n",
    "pca.fit(A)\n",
    "print(pca.components_)\n",
    "print(pca.explained_variance_)\n",
    "# transform data\n",
    "B = pca.transform(A)\n",
    "print(B)\n",
    "#plt.plot(A[:,0], A[:,1], B[:,0], B[:,1], 'o')\n",
    "#\n",
    "B_inv = pca.inverse_transform(B)\n",
    "print(B_inv)\n",
    "print(A)\n",
    "plt.plot(A[:,0], A[:,1], 'o')\n",
    "plt.plot([B_inv[0,0], B_inv[-1,0]], [B_inv[0,1], B_inv[-1,1]], 'deeppink')"
   ]
  },
  {
   "cell_type": "code",
   "execution_count": null,
   "metadata": {},
   "outputs": [],
   "source": []
  }
 ],
 "metadata": {
  "kernelspec": {
   "display_name": "Python 3",
   "language": "python",
   "name": "python3"
  },
  "language_info": {
   "codemirror_mode": {
    "name": "ipython",
    "version": 3
   },
   "file_extension": ".py",
   "mimetype": "text/x-python",
   "name": "python",
   "nbconvert_exporter": "python",
   "pygments_lexer": "ipython3",
   "version": "3.7.3"
  }
 },
 "nbformat": 4,
 "nbformat_minor": 2
}
